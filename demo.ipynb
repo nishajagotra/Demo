{
 "cells": [
  {
   "cell_type": "code",
   "execution_count": 1,
   "id": "c4e7b3eb",
   "metadata": {},
   "outputs": [
    {
     "name": "stdout",
     "output_type": "stream",
     "text": [
      "Hello World\n"
     ]
    }
   ],
   "source": [
    "print('Hello World')"
   ]
  },
  {
   "cell_type": "code",
   "execution_count": 2,
   "id": "10813d31",
   "metadata": {},
   "outputs": [
    {
     "name": "stdout",
     "output_type": "stream",
     "text": [
      "10\n",
      "20\n",
      "Nisha\n"
     ]
    }
   ],
   "source": [
    "x = 10\n",
    "y = 20\n",
    "\n",
    "myname  =\"Nisha\"\n",
    "\n",
    "print(x)\n",
    "\n",
    "print(y)\n",
    "\n",
    "print(myname)"
   ]
  },
  {
   "cell_type": "code",
   "execution_count": 1,
   "id": "9efa3b92",
   "metadata": {},
   "outputs": [
    {
     "name": "stdout",
     "output_type": "stream",
     "text": [
      "Nisha Jagotra\n"
     ]
    }
   ],
   "source": [
    "firstname = 'Nisha'\n",
    "Lastname = 'Jagotra'\n",
    "\n",
    "print(firstname,Lastname)"
   ]
  },
  {
   "cell_type": "code",
   "execution_count": 2,
   "id": "c346b5d0",
   "metadata": {},
   "outputs": [
    {
     "name": "stdout",
     "output_type": "stream",
     "text": [
      "NishaJagotra\n"
     ]
    }
   ],
   "source": [
    "print(firstname+Lastname)"
   ]
  },
  {
   "cell_type": "code",
   "execution_count": 4,
   "id": "65dbed0d",
   "metadata": {},
   "outputs": [
    {
     "name": "stdout",
     "output_type": "stream",
     "text": [
      "110\n"
     ]
    }
   ],
   "source": [
    "a = 50\n",
    "b= 60\n",
    "#The sum of a and b is 110\n",
    "\n",
    "print(a+b)"
   ]
  },
  {
   "cell_type": "code",
   "execution_count": 5,
   "id": "f97f2891",
   "metadata": {},
   "outputs": [
    {
     "name": "stdout",
     "output_type": "stream",
     "text": [
      "The sum of a and b is 110\n"
     ]
    }
   ],
   "source": [
    "print('The sum of a and b is',a+b)"
   ]
  }
 ],
 "metadata": {
  "kernelspec": {
   "display_name": "Python 3 (ipykernel)",
   "language": "python",
   "name": "python3"
  },
  "language_info": {
   "codemirror_mode": {
    "name": "ipython",
    "version": 3
   },
   "file_extension": ".py",
   "mimetype": "text/x-python",
   "name": "python",
   "nbconvert_exporter": "python",
   "pygments_lexer": "ipython3",
   "version": "3.9.12"
  }
 },
 "nbformat": 4,
 "nbformat_minor": 5
}
